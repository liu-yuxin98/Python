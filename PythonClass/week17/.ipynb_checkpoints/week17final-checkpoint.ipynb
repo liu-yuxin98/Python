{
 "cells": [
  {
   "cell_type": "code",
   "execution_count": 8,
   "metadata": {},
   "outputs": [
    {
     "data": {
      "text/plain": [
       "45"
      ]
     },
     "execution_count": 8,
     "metadata": {},
     "output_type": "execute_result"
    }
   ],
   "source": [
    "#python 语言高级特性\n",
    "# 生成器\n",
    "'''\n",
    "用来创建python的一个序列，使用它可迭代\n",
    "\n",
    "'''\n",
    "lst = [x for  x in range(10)]  # 结果，内部有值\n",
    "gen = (x for x in range(10))  # 方法，如何产生序列\n",
    "gen # 可以被枚举\n",
    "s = 0\n",
    "# 把gen 当做函数\n",
    "for i in gen:\n",
    "    s+=i\n",
    "s"
   ]
  },
  {
   "cell_type": "code",
   "execution_count": 11,
   "metadata": {},
   "outputs": [],
   "source": [
    "s = 3\n",
    "for x in range(s):\n",
    "    s += 1\n",
    "# 不是无限循环， range(s)，s=3已经放入了range(中)，相当于 range(3),之后s变化不影响运行次数。\n",
    "# yield\n"
   ]
  },
  {
   "cell_type": "code",
   "execution_count": 20,
   "metadata": {},
   "outputs": [
    {
     "data": {
      "text/plain": [
       "[3, 9, 7, 5, -6, 34, 67, 45, 17, 19, 2, 19]"
      ]
     },
     "execution_count": 20,
     "metadata": {},
     "output_type": "execute_result"
    }
   ],
   "source": [
    "# 生产二维码\n",
    "# C:\\P\\PythonData\\Chpater2-PythonData\\twocode.py\n",
    "# 生成器优点： 不需要大规模的数据计算 使用过程：\n",
    "# 扁平化嵌套列表\n",
    "lst = [3,9,[7,5],-6,[34,67,[45,[17,19],2]],19]\n",
    "# 解嵌套\n",
    "'''\n",
    "for k in flatten(x):\n",
    "    yield k\n",
    "      equals to \n",
    "yield from flatten(x)\n",
    "'''\n",
    "\n",
    "def flatten(items):\n",
    "    for x in items:\n",
    "        if isinstance(x,list):\n",
    "            yield from flatten(x)\n",
    "        else:\n",
    "            yield x\n",
    "l = [ x for x in flatten(lst)]\n",
    "l\n",
    "\n",
    "\n"
   ]
  },
  {
   "cell_type": "code",
   "execution_count": 3,
   "metadata": {},
   "outputs": [
    {
     "name": "stdout",
     "output_type": "stream",
     "text": [
      "[[0, 2, 4, 6, 1, 3, 5], [0, 3, 6, 2, 5, 1, 4], [0, 4, 1, 5, 2, 6, 3], [0, 5, 3, 1, 6, 4, 2], [1, 3, 0, 6, 4, 2, 5], [1, 3, 5, 0, 2, 4, 6], [1, 4, 0, 3, 6, 2, 5], [1, 4, 2, 0, 6, 3, 5], [1, 4, 6, 3, 0, 2, 5], [1, 5, 2, 6, 3, 0, 4], [1, 6, 4, 2, 0, 5, 3], [2, 0, 5, 1, 4, 6, 3], [2, 0, 5, 3, 1, 6, 4], [2, 4, 6, 1, 3, 5, 0], [2, 5, 1, 4, 0, 3, 6], [2, 6, 1, 3, 5, 0, 4], [2, 6, 3, 0, 4, 1, 5], [3, 0, 2, 5, 1, 6, 4], [3, 0, 4, 1, 5, 2, 6], [3, 1, 6, 4, 2, 0, 5], [3, 5, 0, 2, 4, 6, 1], [3, 6, 2, 5, 1, 4, 0], [3, 6, 4, 1, 5, 0, 2], [4, 0, 3, 6, 2, 5, 1], [4, 0, 5, 3, 1, 6, 2], [4, 1, 5, 2, 6, 3, 0], [4, 2, 0, 5, 3, 1, 6], [4, 6, 1, 3, 5, 0, 2], [4, 6, 1, 5, 2, 0, 3], [5, 0, 2, 4, 6, 1, 3], [5, 1, 4, 0, 3, 6, 2], [5, 2, 0, 3, 6, 4, 1], [5, 2, 4, 6, 0, 3, 1], [5, 2, 6, 3, 0, 4, 1], [5, 3, 1, 6, 4, 2, 0], [5, 3, 6, 0, 2, 4, 1], [6, 1, 3, 5, 0, 2, 4], [6, 2, 5, 1, 4, 0, 3], [6, 3, 0, 4, 1, 5, 2], [6, 4, 2, 0, 5, 3, 1]]\n"
     ]
    }
   ],
   "source": [
    "# 皇后问题\n",
    "# 典型的搜寻回溯问题\n",
    "# 深度优先，广度优先\n",
    "def conflict(state,nextx):\n",
    "    nexty = len(state)\n",
    "    for i in range(nexty):\n",
    "        if abs(state[i]-nextx) in (0,nexty-i): \n",
    "            return True \n",
    "    return False\n",
    "\n",
    "def queens(num=8,state = []):\n",
    "    # 遍历每一列\n",
    "    for pos in range(num):\n",
    "        if not conflict(state,pos):\n",
    "            # 到达最后一行\n",
    "            if len(state) == num-1:\n",
    "                # 这是一个可行方案\n",
    "                yield[pos]\n",
    "            else:\n",
    "                for result in queens(num,state+[pos]):\n",
    "                    yield[pos]+result\n",
    "print(list(queens(7)))\n",
    "\n"
   ]
  },
  {
   "cell_type": "code",
   "execution_count": 25,
   "metadata": {},
   "outputs": [
    {
     "name": "stdout",
     "output_type": "stream",
     "text": [
      "24\n"
     ]
    }
   ],
   "source": [
    "# 闭包\n",
    "def maker(n):\n",
    "    k = 8\n",
    "    def action(x):\n",
    "        return x**n+k\n",
    "    return action\n",
    "f = maker(2)\n",
    "print(f(4))"
   ]
  },
  {
   "cell_type": "code",
   "execution_count": null,
   "metadata": {},
   "outputs": [],
   "source": []
  }
 ],
 "metadata": {
  "kernelspec": {
   "display_name": "Python 3",
   "language": "python",
   "name": "python3"
  },
  "language_info": {
   "codemirror_mode": {
    "name": "ipython",
    "version": 3
   },
   "file_extension": ".py",
   "mimetype": "text/x-python",
   "name": "python",
   "nbconvert_exporter": "python",
   "pygments_lexer": "ipython3",
   "version": "3.7.3"
  }
 },
 "nbformat": 4,
 "nbformat_minor": 2
}
